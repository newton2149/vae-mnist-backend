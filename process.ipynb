{
 "cells": [
  {
   "cell_type": "code",
   "execution_count": 1,
   "id": "f7c4de62-3ca7-4803-aca8-fac5d5af3e27",
   "metadata": {},
   "outputs": [],
   "source": [
    "from IPython import display\n",
    "\n",
    "import glob\n",
    "import imageio\n",
    "import matplotlib.pyplot as plt\n",
    "import numpy as np\n",
    "import PIL\n",
    "import tensorflow as tf\n",
    "import tensorflow_probability as tfp\n",
    "import time\n",
    "import tensorflow.keras.backend as K"
   ]
  },
  {
   "cell_type": "code",
   "execution_count": 2,
   "id": "93fb3b3e-5270-4b7f-9184-45cf9629dc40",
   "metadata": {},
   "outputs": [],
   "source": [
    "\n",
    "class CustomLayer(tf.keras.layers.Layer):\n",
    "\n",
    "    def vae_loss(self, x, z_decoded, z_mu, z_sigma):\n",
    "        x = K.flatten(x)\n",
    "        z_decoded = K.flatten(z_decoded)\n",
    "        \n",
    "        # Reconstruction loss (as we used sigmoid activation we can use binarycrossentropy)\n",
    "        recon_loss = tf.keras.metrics.binary_crossentropy(x, z_decoded)\n",
    "        \n",
    "        # KL divergence\n",
    "        kl_loss = -5e-4 * K.mean(1 + z_sigma - K.square(z_mu) - K.exp(z_sigma), axis=-1)\n",
    "        return K.mean(recon_loss + kl_loss)\n",
    "\n",
    "    # add custom loss to the class\n",
    "    def call(self, inputs):\n",
    "        x = inputs[0]\n",
    "        z_decoded = inputs[1]\n",
    "        z_mu = inputs[2]\n",
    "        z_sigma = inputs[3]\n",
    "        \n",
    "        loss = self.vae_loss(x, z_decoded, z_mu, z_sigma)\n",
    "        self.add_loss(loss, inputs=inputs)\n",
    "        return x\n",
    "    \n",
    "    \n",
    "def load_model_weights():\n",
    "    custom_objects = {\"CustomLayer\": CustomLayer}\n",
    "    reconstructed_encoder = tf.keras.models.load_model( \"./models/encoderModel.keras\")\n",
    "    reconstructed_vae =tf.keras.models.load_model(\"./models/vaeModel.keras\",\n",
    "                                                  custom_objects={\"CustomLayer\": CustomLayer},)\n",
    "    \n",
    "    reconstructed_decoder = tf.keras.models.load_model(\n",
    "    \"./models/decoderModel.keras\", )\n",
    "    \n",
    "    \n",
    "    return (reconstructed_encoder,reconstructed_decoder,reconstructed_vae)\n",
    "\n",
    "def preprocess(img_path):\n",
    "    import cv2\n",
    "    import numpy as np\n",
    "    gray = cv2.imread(img_path, cv2.IMREAD_GRAYSCALE)\n",
    "    # gray = 255 - img\n",
    "\n",
    "    gray = cv2.resize(gray, (28, 28))\n",
    "    cv2.imwrite('gray'+ img_path, gray)\n",
    "    img = gray / 255.0\n",
    "    img = np.array(img).reshape(28, 28, 1)\n",
    "    return img\n",
    "\n",
    "def predict_image(img,encoder,decoder,img_w=28, img_h=28):\n",
    "    mu, _, _ = encoder.predict(tf.expand_dims(img,axis=0))\n",
    "    sample_vector = np.array([mu[0]])\n",
    "    decoded_example = decoder.predict(sample_vector)\n",
    "    decoded_example_reshaped = decoded_example.reshape(img_w, img_h)\n",
    "    plt.subplot(1, 2, 2)\n",
    "    plt.title(\"Generated\")\n",
    "    plt.imshow(decoded_example_reshaped)\n",
    "    \n",
    "    real = img\n",
    "    plt.subplot(1, 2, 1)\n",
    "    plt.title(\"Real\")\n",
    "    plt.imshow(real)\n",
    "    \n",
    "    return decoded_example_reshaped"
   ]
  },
  {
   "cell_type": "code",
   "execution_count": 3,
   "id": "d47f3c30-dad7-452c-b70e-79ff060377e7",
   "metadata": {},
   "outputs": [
    {
     "name": "stdout",
     "output_type": "stream",
     "text": [
      "WARNING:tensorflow:No training configuration found in the save file, so the model was *not* compiled. Compile it manually.\n",
      "WARNING:tensorflow:No training configuration found in the save file, so the model was *not* compiled. Compile it manually.\n"
     ]
    }
   ],
   "source": [
    "encoder,decoder,vae = load_model_weights()"
   ]
  },
  {
   "cell_type": "code",
   "execution_count": 4,
   "id": "e8202c87-e946-4a48-820f-5ee18819a03f",
   "metadata": {},
   "outputs": [],
   "source": [
    "ig1 = preprocess('./stage (1).png')"
   ]
  },
  {
   "cell_type": "code",
   "execution_count": 6,
   "id": "1a95ba77-b652-4da0-96f2-007f91085ace",
   "metadata": {
    "tags": []
   },
   "outputs": [
    {
     "name": "stdout",
     "output_type": "stream",
     "text": [
      "1/1 [==============================] - 0s 12ms/step\n",
      "1/1 [==============================] - 0s 11ms/step\n"
     ]
    },
    {
     "data": {
      "image/png": "[encoded data removed]",
      "text/plain": [
       "<Figure size 640x480 with 2 Axes>"
      ]
     },
     "metadata": {},
     "output_type": "display_data"
    }
   ],
   "source": [
    "img = predict_image(ig1,encoder,decoder,28,28)"
   ]
  },
  {
   "cell_type": "code",
   "execution_count": null,
   "id": "33770932-cd16-4c53-a968-f3d49ef5a850",
   "metadata": {},
   "outputs": [],
   "source": []
  }
 ],
 "metadata": {
  "kernelspec": {
   "display_name": "Python 3 (ipykernel)",
   "language": "python",
   "name": "python3"
  },
  "language_info": {
   "codemirror_mode": {
    "name": "ipython",
    "version": 3
   },
   "file_extension": ".py",
   "mimetype": "text/x-python",
   "name": "python",
   "nbconvert_exporter": "python",
   "pygments_lexer": "ipython3",
   "version": "3.10.9"
  }
 },
 "nbformat": 4,
 "nbformat_minor": 5
}

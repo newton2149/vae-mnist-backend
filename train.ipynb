{
 "cells": [
  {
   "cell_type": "code",
   "execution_count": 1,
   "id": "bd109c29-b3ba-41dd-b1ba-44d94d4ddd6a",
   "metadata": {},
   "outputs": [],
   "source": [
    "from IPython import display\n",
    "\n",
    "import glob\n",
    "import imageio\n",
    "import matplotlib.pyplot as plt\n",
    "import numpy as np\n",
    "import PIL\n",
    "import tensorflow as tf\n",
    "import tensorflow_probability as tfp\n",
    "import time\n",
    "import tensorflow.keras.backend as K"
   ]
  },
  {
   "cell_type": "code",
   "execution_count": 2,
   "id": "0be69ac6-18e1-4a50-b9dc-4abefc2d8767",
   "metadata": {},
   "outputs": [],
   "source": [
    "(x_train, y_train), (x_test, y_test) = tf.keras.datasets.mnist.load_data()"
   ]
  },
  {
   "cell_type": "code",
   "execution_count": 3,
   "id": "78aa504c-99ce-41b9-bd55-26343f36a7d9",
   "metadata": {},
   "outputs": [],
   "source": [
    "x_train = x_train.astype('float32')\n",
    "x_test = x_test.astype('float32')"
   ]
  },
  {
   "cell_type": "code",
   "execution_count": 4,
   "id": "55385dd6-1fea-4c69-88a8-d9708e4a4660",
   "metadata": {},
   "outputs": [],
   "source": [
    "x_train = x_train/255\n",
    "x_test = x_test/255"
   ]
  },
  {
   "cell_type": "code",
   "execution_count": 5,
   "id": "fedf4445-bb66-4d86-a4b6-a5df89a75eba",
   "metadata": {},
   "outputs": [],
   "source": [
    "img_w = x_train.shape[1]\n",
    "img_h = x_train.shape[2]\n",
    "colour_channels = 1\n",
    "input_shape = (img_h, img_w, colour_channels)"
   ]
  },
  {
   "cell_type": "code",
   "execution_count": 6,
   "id": "c9b41a58-c327-420a-a0be-7029f69b083d",
   "metadata": {},
   "outputs": [],
   "source": [
    "x_train = x_train.reshape(x_train.shape[0],img_h,img_w,colour_channels)\n",
    "x_test = x_test.reshape(x_test.shape[0],img_h,img_w,colour_channels)"
   ]
  },
  {
   "cell_type": "code",
   "execution_count": 7,
   "id": "c22a85a7-3aad-4b93-bd6f-344ffc809283",
   "metadata": {},
   "outputs": [
    {
     "data": {
      "text/plain": [
       "Text(0.5, 1.0, '6')"
      ]
     },
     "execution_count": 7,
     "metadata": {},
     "output_type": "execute_result"
    },
    {
     "data": {
      "image/png": "[encoded data removed]",
      "text/plain": [
       "<Figure size 640x480 with 1 Axes>"
      ]
     },
     "metadata": {},
     "output_type": "display_data"
    }
   ],
   "source": [
    "plt.figure()\n",
    "plt.imshow(x_train[32])\n",
    "plt.title(y_train[32])"
   ]
  },
  {
   "cell_type": "code",
   "execution_count": 8,
   "id": "3e7da3bc-d6ad-457b-98dd-fa898dfe40ff",
   "metadata": {},
   "outputs": [],
   "source": [
    "latent_dim = 80"
   ]
  },
  {
   "cell_type": "code",
   "execution_count": 9,
   "id": "7f89527c-8e86-494b-8e8b-f465fc7d64e1",
   "metadata": {},
   "outputs": [
    {
     "name": "stdout",
     "output_type": "stream",
     "text": [
      "Model: \"encoder\"\n",
      "__________________________________________________________________________________________________\n",
      " Layer (type)                   Output Shape         Param #     Connected to                     \n",
      "==================================================================================================\n",
      " encoder_input (InputLayer)     [(None, 28, 28, 1)]  0           []                               \n",
      "                                                                                                  \n",
      " conv2d (Conv2D)                (None, 28, 28, 32)   320         ['encoder_input[0][0]']          \n",
      "                                                                                                  \n",
      " conv2d_1 (Conv2D)              (None, 14, 14, 64)   18496       ['conv2d[0][0]']                 \n",
      "                                                                                                  \n",
      " conv2d_2 (Conv2D)              (None, 14, 14, 64)   36928       ['conv2d_1[0][0]']               \n",
      "                                                                                                  \n",
      " conv2d_3 (Conv2D)              (None, 14, 14, 64)   36928       ['conv2d_2[0][0]']               \n",
      "                                                                                                  \n",
      " flatten (Flatten)              (None, 12544)        0           ['conv2d_3[0][0]']               \n",
      "                                                                                                  \n",
      " dense (Dense)                  (None, 32)           401440      ['flatten[0][0]']                \n",
      "                                                                                                  \n",
      " latent_mu (Dense)              (None, 80)           2640        ['dense[0][0]']                  \n",
      "                                                                                                  \n",
      " latent_sigma (Dense)           (None, 80)           2640        ['dense[0][0]']                  \n",
      "                                                                                                  \n",
      " z (Lambda)                     (None, 80)           0           ['latent_mu[0][0]',              \n",
      "                                                                  'latent_sigma[0][0]']           \n",
      "                                                                                                  \n",
      "==================================================================================================\n",
      "Total params: 499,392\n",
      "Trainable params: 499,392\n",
      "Non-trainable params: 0\n",
      "__________________________________________________________________________________________________\n",
      "None\n",
      "Model: \"decoder\"\n",
      "_________________________________________________________________\n",
      " Layer (type)                Output Shape              Param #   \n",
      "=================================================================\n",
      " decoder_input (InputLayer)  [(None, 80)]              0         \n",
      "                                                                 \n",
      " dense_1 (Dense)             (None, 12544)             1016064   \n",
      "                                                                 \n",
      " reshape (Reshape)           (None, 14, 14, 64)        0         \n",
      "                                                                 \n",
      " conv2d_transpose (Conv2DTra  (None, 28, 28, 32)       18464     \n",
      " nspose)                                                         \n",
      "                                                                 \n",
      " decoder_output (Conv2DTrans  (None, 28, 28, 1)        289       \n",
      " pose)                                                           \n",
      "                                                                 \n",
      "=================================================================\n",
      "Total params: 1,034,817\n",
      "Trainable params: 1,034,817\n",
      "Non-trainable params: 0\n",
      "_________________________________________________________________\n"
     ]
    }
   ],
   "source": [
    "\n",
    "input_img = tf.keras.layers.Input(shape=input_shape, name='encoder_input')\n",
    "x = tf.keras.layers.Conv2D(32, 3, padding='same', activation='relu')(input_img)\n",
    "x = tf.keras.layers.Conv2D(64, 3, padding='same', activation='relu',strides=(2, 2))(x)\n",
    "x = tf.keras.layers.Conv2D(64, 3, padding='same', activation='relu')(x)\n",
    "x = tf.keras.layers.Conv2D(64, 3, padding='same', activation='relu')(x)\n",
    "\n",
    "\n",
    "conv_shape = K.int_shape(x)\n",
    "x = tf.keras.layers.Flatten()(x)\n",
    "x = tf.keras.layers.Dense(32, activation='relu')(x)\n",
    "\n",
    "z_mu = tf.keras.layers.Dense(latent_dim, name='latent_mu')(x)   \n",
    "z_sigma = tf.keras.layers.Dense(latent_dim, name='latent_sigma')(x) \n",
    "\n",
    "\n",
    "def sample_z(args):\n",
    "  z_mu, z_sigma = args\n",
    "  eps = K.random_normal(shape=(K.shape(z_mu)[0], K.int_shape(z_mu)[1]))\n",
    "  return z_mu + K.exp(z_sigma / 2) * eps\n",
    "\n",
    "z =tf.keras.layers.Lambda(sample_z, output_shape=(latent_dim, ), name='z')([z_mu, z_sigma])\n",
    "\n",
    "\n",
    "encoder = tf.keras.models.Model(input_img, [z_mu, z_sigma, z], name='encoder')\n",
    "print(encoder.summary())\n",
    "\n",
    "\n",
    "decoder_input = tf.keras.layers.Input(shape=(latent_dim, ), name='decoder_input')\n",
    "x = tf.keras.layers.Dense(conv_shape[1]*conv_shape[2]*conv_shape[3], activation='relu')(decoder_input)\n",
    "x =tf.keras.layers. Reshape((conv_shape[1], conv_shape[2], conv_shape[3]))(x)\n",
    "x = tf.keras.layers.Conv2DTranspose(32, 3, padding='same', activation='relu',strides=(2, 2))(x)\n",
    "x = tf.keras.layers.Conv2DTranspose(colour_channels, 3, padding='same', activation='sigmoid', name='decoder_output')(x)\n",
    "decoder = tf.keras.models.Model(decoder_input, x, name='decoder')\n",
    "decoder.summary()\n",
    "z_decoded = decoder(z)\n"
   ]
  },
  {
   "cell_type": "code",
   "execution_count": 10,
   "id": "205a2db4-745c-47ff-95ea-b43c4b20a050",
   "metadata": {},
   "outputs": [],
   "source": [
    "\n",
    "class CustomLayer(tf.keras.layers.Layer):\n",
    "\n",
    "    def vae_loss(self, x, z_decoded, z_mu, z_sigma):\n",
    "        x = K.flatten(x)\n",
    "        z_decoded = K.flatten(z_decoded)\n",
    "        \n",
    "        recon_loss = tf.keras.metrics.binary_crossentropy(x, z_decoded)\n",
    "        \n",
    "        # KL divergence\n",
    "        kl_loss = -5e-4 * K.mean(1 + z_sigma - K.square(z_mu) - K.exp(z_sigma), axis=-1)\n",
    "        return K.mean(recon_loss + kl_loss)\n",
    "\n",
    "    def call(self, inputs):\n",
    "        x = inputs[0]\n",
    "        z_decoded = inputs[1]\n",
    "        z_mu = inputs[2]\n",
    "        z_sigma = inputs[3]\n",
    "        \n",
    "        loss = self.vae_loss(x, z_decoded, z_mu, z_sigma)\n",
    "        self.add_loss(loss, inputs=inputs)\n",
    "        return x\n",
    "\n",
    "y = CustomLayer()([input_img, z_decoded, z_mu, z_sigma])\n"
   ]
  },
  {
   "cell_type": "code",
   "execution_count": 11,
   "id": "11d470bc-dddd-450f-868a-85ee1100bd9f",
   "metadata": {},
   "outputs": [
    {
     "name": "stdout",
     "output_type": "stream",
     "text": [
      "Model: \"vae\"\n",
      "__________________________________________________________________________________________________\n",
      " Layer (type)                   Output Shape         Param #     Connected to                     \n",
      "==================================================================================================\n",
      " encoder_input (InputLayer)     [(None, 28, 28, 1)]  0           []                               \n",
      "                                                                                                  \n",
      " conv2d (Conv2D)                (None, 28, 28, 32)   320         ['encoder_input[0][0]']          \n",
      "                                                                                                  \n",
      " conv2d_1 (Conv2D)              (None, 14, 14, 64)   18496       ['conv2d[0][0]']                 \n",
      "                                                                                                  \n",
      " conv2d_2 (Conv2D)              (None, 14, 14, 64)   36928       ['conv2d_1[0][0]']               \n",
      "                                                                                                  \n",
      " conv2d_3 (Conv2D)              (None, 14, 14, 64)   36928       ['conv2d_2[0][0]']               \n",
      "                                                                                                  \n",
      " flatten (Flatten)              (None, 12544)        0           ['conv2d_3[0][0]']               \n",
      "                                                                                                  \n",
      " dense (Dense)                  (None, 32)           401440      ['flatten[0][0]']                \n",
      "                                                                                                  \n",
      " latent_mu (Dense)              (None, 80)           2640        ['dense[0][0]']                  \n",
      "                                                                                                  \n",
      " latent_sigma (Dense)           (None, 80)           2640        ['dense[0][0]']                  \n",
      "                                                                                                  \n",
      " z (Lambda)                     (None, 80)           0           ['latent_mu[0][0]',              \n",
      "                                                                  'latent_sigma[0][0]']           \n",
      "                                                                                                  \n",
      " decoder (Functional)           (None, 28, 28, 1)    1034817     ['z[0][0]']                      \n",
      "                                                                                                  \n",
      " custom_layer (CustomLayer)     (None, 28, 28, 1)    0           ['encoder_input[0][0]',          \n",
      "                                                                  'decoder[0][0]',                \n",
      "                                                                  'latent_mu[0][0]',              \n",
      "                                                                  'latent_sigma[0][0]']           \n",
      "                                                                                                  \n",
      "==================================================================================================\n",
      "Total params: 1,534,209\n",
      "Trainable params: 1,534,209\n",
      "Non-trainable params: 0\n",
      "__________________________________________________________________________________________________\n"
     ]
    }
   ],
   "source": [
    "vae = tf.keras.models.Model(input_img, y, name='vae')\n",
    "\n",
    "# Compile VAE\n",
    "vae.compile(optimizer='adam', loss=None)\n",
    "vae.summary()"
   ]
  },
  {
   "cell_type": "code",
   "execution_count": 12,
   "id": "c2700a7b-552e-4f54-915c-eb5775587007",
   "metadata": {},
   "outputs": [
    {
     "name": "stdout",
     "output_type": "stream",
     "text": [
      "Epoch 1/100\n",
      "1500/1500 [==============================] - 10s 5ms/step - loss: 0.1509 - val_loss: 0.1182\n",
      "Epoch 2/100\n",
      "1500/1500 [==============================] - 7s 5ms/step - loss: 0.1113 - val_loss: 0.1073\n",
      "Epoch 3/100\n",
      "1500/1500 [==============================] - 7s 5ms/step - loss: 0.1040 - val_loss: 0.1036\n",
      "Epoch 4/100\n",
      "1500/1500 [==============================] - 7s 5ms/step - loss: 0.1012 - val_loss: 0.1016\n",
      "Epoch 5/100\n",
      "1500/1500 [==============================] - 7s 5ms/step - loss: 0.0994 - val_loss: 0.1007\n",
      "Epoch 6/100\n",
      "1500/1500 [==============================] - 7s 5ms/step - loss: 0.0981 - val_loss: 0.0991\n",
      "Epoch 7/100\n",
      "1500/1500 [==============================] - 7s 5ms/step - loss: 0.0971 - val_loss: 0.0987\n",
      "Epoch 8/100\n",
      "1500/1500 [==============================] - 7s 5ms/step - loss: 0.0963 - val_loss: 0.0980\n",
      "Epoch 9/100\n",
      "1500/1500 [==============================] - 7s 5ms/step - loss: 0.0956 - val_loss: 0.0975\n",
      "Epoch 10/100\n",
      "1500/1500 [==============================] - 7s 5ms/step - loss: 0.0950 - val_loss: 0.0973\n",
      "Epoch 11/100\n",
      "1500/1500 [==============================] - 7s 5ms/step - loss: 0.0944 - val_loss: 0.0975\n",
      "Epoch 12/100\n",
      "1500/1500 [==============================] - 7s 5ms/step - loss: 0.0940 - val_loss: 0.0968\n",
      "Epoch 13/100\n",
      "1500/1500 [==============================] - 7s 5ms/step - loss: 0.0935 - val_loss: 0.0966\n",
      "Epoch 14/100\n",
      "1500/1500 [==============================] - 7s 5ms/step - loss: 0.0931 - val_loss: 0.0960\n",
      "Epoch 15/100\n",
      "1500/1500 [==============================] - 7s 5ms/step - loss: 0.0928 - val_loss: 0.0960\n",
      "Epoch 16/100\n",
      "1500/1500 [==============================] - 8s 5ms/step - loss: 0.0924 - val_loss: 0.0957\n",
      "Epoch 17/100\n",
      "1500/1500 [==============================] - 7s 5ms/step - loss: 0.0922 - val_loss: 0.0956\n",
      "Epoch 18/100\n",
      "1500/1500 [==============================] - 7s 5ms/step - loss: 0.0919 - val_loss: 0.0955\n",
      "Epoch 19/100\n",
      "1500/1500 [==============================] - 7s 5ms/step - loss: 0.0916 - val_loss: 0.0954\n",
      "Epoch 20/100\n",
      "1500/1500 [==============================] - 8s 5ms/step - loss: 0.0914 - val_loss: 0.0952\n",
      "Epoch 21/100\n",
      "1500/1500 [==============================] - 8s 5ms/step - loss: 0.0912 - val_loss: 0.0952\n",
      "Epoch 22/100\n",
      "1500/1500 [==============================] - 8s 5ms/step - loss: 0.0910 - val_loss: 0.0949\n",
      "Epoch 23/100\n",
      "1500/1500 [==============================] - 8s 5ms/step - loss: 0.0908 - val_loss: 0.0947\n",
      "Epoch 24/100\n",
      "1500/1500 [==============================] - 8s 5ms/step - loss: 0.0906 - val_loss: 0.0951\n",
      "Epoch 25/100\n",
      "1500/1500 [==============================] - 8s 5ms/step - loss: 0.0904 - val_loss: 0.0947\n",
      "Epoch 26/100\n",
      "1500/1500 [==============================] - 8s 5ms/step - loss: 0.0903 - val_loss: 0.0946\n",
      "Epoch 27/100\n",
      "1500/1500 [==============================] - 8s 5ms/step - loss: 0.0901 - val_loss: 0.0948\n",
      "Epoch 28/100\n",
      "1500/1500 [==============================] - 8s 5ms/step - loss: 0.0900 - val_loss: 0.0945\n",
      "Epoch 29/100\n",
      "1500/1500 [==============================] - 8s 5ms/step - loss: 0.0898 - val_loss: 0.0944\n",
      "Epoch 30/100\n",
      "1500/1500 [==============================] - 8s 5ms/step - loss: 0.0897 - val_loss: 0.0947\n",
      "Epoch 31/100\n",
      "1500/1500 [==============================] - 8s 5ms/step - loss: 0.0895 - val_loss: 0.0941\n",
      "Epoch 32/100\n",
      "1500/1500 [==============================] - 8s 5ms/step - loss: 0.0894 - val_loss: 0.0948\n",
      "Epoch 33/100\n",
      "1500/1500 [==============================] - 8s 5ms/step - loss: 0.0893 - val_loss: 0.0946\n",
      "Epoch 34/100\n",
      "1500/1500 [==============================] - 8s 5ms/step - loss: 0.0892 - val_loss: 0.0944\n",
      "Epoch 35/100\n",
      "1500/1500 [==============================] - 8s 5ms/step - loss: 0.0891 - val_loss: 0.0940\n",
      "Epoch 36/100\n",
      "1500/1500 [==============================] - 8s 5ms/step - loss: 0.0890 - val_loss: 0.0944\n",
      "Epoch 37/100\n",
      "1500/1500 [==============================] - 8s 5ms/step - loss: 0.0889 - val_loss: 0.0942\n",
      "Epoch 38/100\n",
      "1500/1500 [==============================] - 8s 5ms/step - loss: 0.0888 - val_loss: 0.0944\n",
      "Epoch 39/100\n",
      "1500/1500 [==============================] - 8s 5ms/step - loss: 0.0887 - val_loss: 0.0941\n",
      "Epoch 40/100\n",
      "1500/1500 [==============================] - 8s 5ms/step - loss: 0.0886 - val_loss: 0.0940\n",
      "Epoch 41/100\n",
      "1500/1500 [==============================] - 8s 5ms/step - loss: 0.0885 - val_loss: 0.0942\n",
      "Epoch 42/100\n",
      "1500/1500 [==============================] - 8s 5ms/step - loss: 0.0884 - val_loss: 0.0941\n",
      "Epoch 43/100\n",
      "1500/1500 [==============================] - 8s 5ms/step - loss: 0.0884 - val_loss: 0.0941\n",
      "Epoch 44/100\n",
      "1500/1500 [==============================] - 8s 5ms/step - loss: 0.0883 - val_loss: 0.0941\n",
      "Epoch 45/100\n",
      "1500/1500 [==============================] - 8s 5ms/step - loss: 0.0882 - val_loss: 0.0941\n",
      "Epoch 46/100\n",
      "1500/1500 [==============================] - 8s 5ms/step - loss: 0.0881 - val_loss: 0.0941\n",
      "Epoch 47/100\n",
      "1500/1500 [==============================] - 8s 5ms/step - loss: 0.0881 - val_loss: 0.0940\n",
      "Epoch 48/100\n",
      "1500/1500 [==============================] - 8s 5ms/step - loss: 0.0880 - val_loss: 0.0939\n",
      "Epoch 49/100\n",
      "1500/1500 [==============================] - 8s 5ms/step - loss: 0.0879 - val_loss: 0.0938\n",
      "Epoch 50/100\n",
      "1500/1500 [==============================] - 8s 5ms/step - loss: 0.0878 - val_loss: 0.0938\n",
      "Epoch 51/100\n",
      "1500/1500 [==============================] - 8s 5ms/step - loss: 0.0878 - val_loss: 0.0940\n",
      "Epoch 52/100\n",
      "1500/1500 [==============================] - 8s 5ms/step - loss: 0.0877 - val_loss: 0.0941\n",
      "Epoch 53/100\n",
      "1500/1500 [==============================] - 8s 5ms/step - loss: 0.0877 - val_loss: 0.0940\n",
      "Epoch 54/100\n",
      "1500/1500 [==============================] - 8s 5ms/step - loss: 0.0876 - val_loss: 0.0950\n",
      "Epoch 55/100\n",
      "1500/1500 [==============================] - 8s 5ms/step - loss: 0.0876 - val_loss: 0.0940\n",
      "Epoch 56/100\n",
      "1500/1500 [==============================] - 8s 5ms/step - loss: 0.0875 - val_loss: 0.0938\n",
      "Epoch 57/100\n",
      "1500/1500 [==============================] - 8s 5ms/step - loss: 0.0875 - val_loss: 0.0939\n",
      "Epoch 58/100\n",
      "1500/1500 [==============================] - 8s 5ms/step - loss: 0.0874 - val_loss: 0.0938\n",
      "Epoch 59/100\n",
      "1500/1500 [==============================] - 8s 5ms/step - loss: 0.0874 - val_loss: 0.0936\n",
      "Epoch 60/100\n",
      "1500/1500 [==============================] - 8s 5ms/step - loss: 0.0873 - val_loss: 0.0938\n",
      "Epoch 61/100\n",
      "1500/1500 [==============================] - 8s 5ms/step - loss: 0.0873 - val_loss: 0.0944\n",
      "Epoch 62/100\n",
      "1500/1500 [==============================] - 8s 5ms/step - loss: 0.0872 - val_loss: 0.0937\n",
      "Epoch 63/100\n",
      "1500/1500 [==============================] - 8s 5ms/step - loss: 0.0872 - val_loss: 0.0938\n",
      "Epoch 64/100\n",
      "1500/1500 [==============================] - 8s 5ms/step - loss: 0.0871 - val_loss: 0.0938\n",
      "Epoch 65/100\n",
      "1500/1500 [==============================] - 8s 5ms/step - loss: 0.0871 - val_loss: 0.0938\n",
      "Epoch 66/100\n",
      "1500/1500 [==============================] - 8s 5ms/step - loss: 0.0871 - val_loss: 0.0938\n",
      "Epoch 67/100\n",
      "1500/1500 [==============================] - 8s 5ms/step - loss: 0.0870 - val_loss: 0.0941\n",
      "Epoch 68/100\n",
      "1500/1500 [==============================] - 8s 5ms/step - loss: 0.0870 - val_loss: 0.0941\n",
      "Epoch 69/100\n",
      "1500/1500 [==============================] - 8s 5ms/step - loss: 0.0869 - val_loss: 0.0940\n",
      "Epoch 70/100\n",
      "1500/1500 [==============================] - 8s 5ms/step - loss: 0.0869 - val_loss: 0.0938\n",
      "Epoch 71/100\n",
      "1500/1500 [==============================] - 8s 5ms/step - loss: 0.0869 - val_loss: 0.0936\n",
      "Epoch 72/100\n",
      "1500/1500 [==============================] - 8s 5ms/step - loss: 0.0868 - val_loss: 0.0939\n",
      "Epoch 73/100\n",
      "1500/1500 [==============================] - 8s 5ms/step - loss: 0.0868 - val_loss: 0.0938\n",
      "Epoch 74/100\n",
      "1500/1500 [==============================] - 8s 5ms/step - loss: 0.0867 - val_loss: 0.0938\n",
      "Epoch 75/100\n",
      "1500/1500 [==============================] - 8s 5ms/step - loss: 0.0867 - val_loss: 0.0936\n",
      "Epoch 76/100\n",
      "1500/1500 [==============================] - 8s 5ms/step - loss: 0.0867 - val_loss: 0.0936\n",
      "Epoch 77/100\n",
      "1500/1500 [==============================] - 8s 5ms/step - loss: 0.0866 - val_loss: 0.0937\n",
      "Epoch 78/100\n",
      "1500/1500 [==============================] - 8s 5ms/step - loss: 0.0866 - val_loss: 0.0936\n",
      "Epoch 79/100\n",
      "1500/1500 [==============================] - 8s 5ms/step - loss: 0.0866 - val_loss: 0.0940\n",
      "Epoch 80/100\n",
      "1500/1500 [==============================] - 8s 5ms/step - loss: 0.0865 - val_loss: 0.0938\n",
      "Epoch 81/100\n",
      "1500/1500 [==============================] - 8s 5ms/step - loss: 0.0865 - val_loss: 0.0937\n",
      "Epoch 82/100\n",
      "1500/1500 [==============================] - 8s 5ms/step - loss: 0.0865 - val_loss: 0.0938\n",
      "Epoch 83/100\n",
      "1500/1500 [==============================] - 8s 5ms/step - loss: 0.0864 - val_loss: 0.0937\n",
      "Epoch 84/100\n",
      "1500/1500 [==============================] - 8s 5ms/step - loss: 0.0864 - val_loss: 0.0938\n",
      "Epoch 85/100\n",
      "1500/1500 [==============================] - 8s 5ms/step - loss: 0.0864 - val_loss: 0.0936\n",
      "Epoch 86/100\n",
      "1500/1500 [==============================] - 8s 5ms/step - loss: 0.0864 - val_loss: 0.0936\n",
      "Epoch 87/100\n",
      "1500/1500 [==============================] - 8s 5ms/step - loss: 0.0863 - val_loss: 0.0937\n",
      "Epoch 88/100\n",
      "1500/1500 [==============================] - 8s 5ms/step - loss: 0.0863 - val_loss: 0.0940\n",
      "Epoch 89/100\n",
      "1500/1500 [==============================] - 8s 5ms/step - loss: 0.0862 - val_loss: 0.0938\n",
      "Epoch 90/100\n",
      "1500/1500 [==============================] - 8s 5ms/step - loss: 0.0862 - val_loss: 0.0938\n",
      "Epoch 91/100\n",
      "1500/1500 [==============================] - 8s 5ms/step - loss: 0.0862 - val_loss: 0.0937\n",
      "Epoch 92/100\n",
      "1500/1500 [==============================] - 8s 5ms/step - loss: 0.0862 - val_loss: 0.0937\n",
      "Epoch 93/100\n",
      "1500/1500 [==============================] - 8s 5ms/step - loss: 0.0861 - val_loss: 0.0936\n",
      "Epoch 94/100\n",
      "1500/1500 [==============================] - 8s 5ms/step - loss: 0.0861 - val_loss: 0.0938\n",
      "Epoch 95/100\n",
      "1500/1500 [==============================] - 8s 5ms/step - loss: 0.0861 - val_loss: 0.0940\n",
      "Epoch 96/100\n",
      "1500/1500 [==============================] - 8s 5ms/step - loss: 0.0861 - val_loss: 0.0942\n",
      "Epoch 97/100\n",
      "1500/1500 [==============================] - 8s 5ms/step - loss: 0.0861 - val_loss: 0.0939\n",
      "Epoch 98/100\n",
      "1500/1500 [==============================] - 8s 5ms/step - loss: 0.0861 - val_loss: 0.0940\n",
      "Epoch 99/100\n",
      "1500/1500 [==============================] - 8s 5ms/step - loss: 0.0860 - val_loss: 0.0940\n",
      "Epoch 100/100\n",
      "1500/1500 [==============================] - 8s 5ms/step - loss: 0.0860 - val_loss: 0.0936\n"
     ]
    },
    {
     "data": {
      "text/plain": [
       "<keras.callbacks.History at 0x7f6f6ae6cd90>"
      ]
     },
     "execution_count": 12,
     "metadata": {},
     "output_type": "execute_result"
    }
   ],
   "source": [
    "vae.fit(x_train, None, epochs = 100, batch_size = 32, validation_split = 0.2)"
   ]
  },
  {
   "cell_type": "code",
   "execution_count": 13,
   "id": "c4922209-b6bb-4816-9ea2-22033f46453a",
   "metadata": {},
   "outputs": [
    {
     "name": "stdout",
     "output_type": "stream",
     "text": [
      "1/1 [==============================] - 0s 120ms/step\n",
      "1/1 [==============================] - 0s 71ms/step\n"
     ]
    },
    {
     "data": {
      "text/plain": [
       "<matplotlib.image.AxesImage at 0x7f6f5dba0a00>"
      ]
     },
     "execution_count": 13,
     "metadata": {},
     "output_type": "execute_result"
    },
    {
     "data": {
      "image/png": "[encoded data removed]",
      "text/plain": [
       "<Figure size 640x480 with 1 Axes>"
      ]
     },
     "metadata": {},
     "output_type": "display_data"
    }
   ],
   "source": [
    "mu, _, _ = encoder.predict(tf.expand_dims(x_test[0],axis=0))\n",
    "sample_vector = np.array([mu[0]])\n",
    "decoded_example = decoder.predict(sample_vector)\n",
    "decoded_example_reshaped = decoded_example.reshape(img_w, img_h)\n",
    "plt.imshow(decoded_example_reshaped)"
   ]
  },
  {
   "cell_type": "code",
   "execution_count": 14,
   "id": "c0c400b6-3892-43ab-95b9-7d4319956fdd",
   "metadata": {},
   "outputs": [
    {
     "data": {
      "text/plain": [
       "array([[ 0.3068354 , -0.65161335,  2.070922  , -0.40691948, -0.49624985,\n",
       "         0.04558975,  0.24736413,  2.3299034 , -1.5933907 , -2.5862644 ,\n",
       "         1.5418621 , -0.03168105,  0.14786872,  0.00942504, -0.17303032,\n",
       "         1.1890365 , -0.28187376, -0.48015344,  0.1256032 , -0.06669752,\n",
       "        -0.09239087,  0.07942329,  3.1470404 ,  0.06504026,  1.6032804 ,\n",
       "        -0.01011357, -0.5042261 , -0.5715908 , -0.6602379 , -0.17122814,\n",
       "        -0.10042715,  1.9020896 , -0.01375258,  0.05700029,  0.22199945,\n",
       "        -0.5231354 ,  0.26683858, -1.9223007 ,  0.78169626, -0.24839652,\n",
       "        -0.05302149,  0.11920145,  0.8517693 ,  0.21110171, -1.1604125 ,\n",
       "        -0.13786453,  0.13515937,  1.5565586 ,  0.17377698,  0.50819755,\n",
       "         3.4892304 , -1.5923063 ,  0.1163913 ,  0.04900771,  0.11816822,\n",
       "        -0.5782919 ,  0.20155299,  0.00913054, -0.04464004,  0.05860353,\n",
       "        -1.748186  , -0.18394315, -0.24561578, -3.5900023 , -0.70582867,\n",
       "         0.39433455,  1.806115  ,  2.5254726 ,  0.31704277,  0.10390836,\n",
       "         0.36240375,  0.3439926 ,  0.01795041, -0.9350634 ,  0.2329418 ,\n",
       "         0.08197358,  0.34511554,  0.6889167 ,  0.01556356,  0.8823915 ]],\n",
       "      dtype=float32)"
      ]
     },
     "execution_count": 14,
     "metadata": {},
     "output_type": "execute_result"
    }
   ],
   "source": [
    "mu"
   ]
  },
  {
   "cell_type": "code",
   "execution_count": 16,
   "id": "68f20ae0-f3eb-4013-85e7-4b6f9c53f2de",
   "metadata": {},
   "outputs": [],
   "source": [
    "def predict_image(img,encoder,decoder,img_w, img_h):\n",
    "    mu, _, _ = encoder.predict(tf.expand_dims(img,axis=0))\n",
    "    sample_vector = np.array([mu[0]])\n",
    "    decoded_example = decoder.predict(sample_vector)\n",
    "    decoded_example_reshaped = decoded_example.reshape(img_w, img_h)\n",
    "    plt.subplot(1, 2, 2)\n",
    "    plt.title(\"Generated\")\n",
    "    plt.imshow(decoded_example_reshaped)\n",
    "    \n",
    "    real = img\n",
    "    plt.subplot(1, 2, 1)\n",
    "    plt.title(\"Real\")\n",
    "    plt.imshow(real)"
   ]
  },
  {
   "cell_type": "code",
   "execution_count": 17,
   "id": "1292e185-684e-48a9-b6f4-f791a293c93c",
   "metadata": {},
   "outputs": [
    {
     "name": "stdout",
     "output_type": "stream",
     "text": [
      "1/1 [==============================] - 0s 15ms/step\n",
      "1/1 [==============================] - 0s 12ms/step\n"
     ]
    },
    {
     "data": {
      "image/png": "[encoded data removed]",
      "text/plain": [
       "<Figure size 640x480 with 2 Axes>"
      ]
     },
     "metadata": {},
     "output_type": "display_data"
    }
   ],
   "source": [
    "predict_image(x_test[10],encoder,decoder,img_w,img_h)"
   ]
  },
  {
   "cell_type": "code",
   "execution_count": 20,
   "id": "2407d1cb-4e7d-40eb-a88f-b5c77523d024",
   "metadata": {},
   "outputs": [],
   "source": [
    "def preprocess(img_path):\n",
    "    import cv2\n",
    "    import numpy as np\n",
    "    gray = cv2.imread(img_path, cv2.IMREAD_GRAYSCALE)\n",
    "    # gray = 255 - img\n",
    "\n",
    "    gray = cv2.resize(gray, (28, 28))\n",
    "    cv2.imwrite('gray'+ img_path, gray)\n",
    "    img = gray / 255.0\n",
    "    img = np.array(img).reshape(28, 28, 1)\n",
    "    return img"
   ]
  },
  {
   "cell_type": "code",
   "execution_count": 21,
   "id": "1da5a004-aeab-474d-ad54-5888c416bfa0",
   "metadata": {},
   "outputs": [],
   "source": [
    "ig1 = preprocess('./stage (1).png')"
   ]
  },
  {
   "cell_type": "code",
   "execution_count": 19,
   "id": "be8a034b-fff4-4dc8-acfa-b3651f66da76",
   "metadata": {},
   "outputs": [
    {
     "ename": "NameError",
     "evalue": "name 'ig1' is not defined",
     "output_type": "error",
     "traceback": [
      "\u001b[0;31m---------------------------------------------------------------------------\u001b[0m",
      "\u001b[0;31mNameError\u001b[0m                                 Traceback (most recent call last)",
      "Cell \u001b[0;32mIn[19], line 1\u001b[0m\n\u001b[0;32m----> 1\u001b[0m \u001b[43mig1\u001b[49m\u001b[38;5;241m.\u001b[39mshape\n",
      "\u001b[0;31mNameError\u001b[0m: name 'ig1' is not defined"
     ]
    }
   ],
   "source": []
  },
  {
   "cell_type": "code",
   "execution_count": 22,
   "id": "76abbfd3-5152-4c53-85d4-6d68e4d612da",
   "metadata": {},
   "outputs": [
    {
     "data": {
      "text/plain": [
       "<matplotlib.image.AxesImage at 0x7f6f4c3f4520>"
      ]
     },
     "execution_count": 22,
     "metadata": {},
     "output_type": "execute_result"
    },
    {
     "data": {
      "image/png": "[encoded data removed]",
      "text/plain": [
       "<Figure size 640x480 with 1 Axes>"
      ]
     },
     "metadata": {},
     "output_type": "display_data"
    }
   ],
   "source": [
    "plt.imshow(ig1)"
   ]
  },
  {
   "cell_type": "code",
   "execution_count": 23,
   "id": "a3f29a27-6bc7-424e-a0f7-e06c36df08b8",
   "metadata": {},
   "outputs": [
    {
     "name": "stdout",
     "output_type": "stream",
     "text": [
      "1/1 [==============================] - 0s 67ms/step\n",
      "1/1 [==============================] - 0s 12ms/step\n"
     ]
    },
    {
     "data": {
      "image/png": "[encoded data removed]",
      "text/plain": [
       "<Figure size 640x480 with 2 Axes>"
      ]
     },
     "metadata": {},
     "output_type": "display_data"
    }
   ],
   "source": [
    "predict_image(ig1,encoder,decoder,img_h,img_w)"
   ]
  },
  {
   "cell_type": "code",
   "execution_count": 27,
   "id": "fa699ca4-32f6-4993-ba48-3136cf536787",
   "metadata": {},
   "outputs": [
    {
     "name": "stdout",
     "output_type": "stream",
     "text": [
      "WARNING:tensorflow:Compiled the loaded model, but the compiled metrics have yet to be built. `model.compile_metrics` will be empty until you train or evaluate the model.\n"
     ]
    }
   ],
   "source": [
    "encoder.save('./models/encoderModel.keras')\n",
    "decoder.save('./models/decoderModel.keras')\n",
    "vae.save('./models/vaeModel.keras')"
   ]
  },
  {
   "cell_type": "code",
   "execution_count": 31,
   "id": "b48a32f3-848f-4064-9981-94a9c0710415",
   "metadata": {},
   "outputs": [
    {
     "name": "stdout",
     "output_type": "stream",
     "text": [
      "WARNING:tensorflow:No training configuration found in the save file, so the model was *not* compiled. Compile it manually.\n",
      "WARNING:tensorflow:No training configuration found in the save file, so the model was *not* compiled. Compile it manually.\n"
     ]
    }
   ],
   "source": [
    "custom_objects = {\"CustomLayer\": CustomLayer}\n",
    "\n",
    "\n",
    "reconstructed_vae =tf.keras.models.load_model(\"./models/vaeModel.keras\",\n",
    "                                              custom_objects={\"CustomLayer\": CustomLayer},\n",
    "                                             )\n",
    "\n",
    "\n",
    "reconstructed_decoder = tf.keras.models.load_model(\n",
    "    \"./models/decoderModel.keras\",\n",
    "    \n",
    ")\n",
    "\n",
    "reconstructed_encoder = tf.keras.models.load_model(\n",
    "    \"./models/encoderModel.keras\",\n",
    "    \n",
    ")"
   ]
  },
  {
   "cell_type": "code",
   "execution_count": 33,
   "id": "c7dcb03a-8d17-4577-a0ed-58cce75f4256",
   "metadata": {},
   "outputs": [
    {
     "name": "stdout",
     "output_type": "stream",
     "text": [
      "WARNING:tensorflow:5 out of the last 10 calls to <function Model.make_predict_function.<locals>.predict_function at 0x7f6e6c1c5000> triggered tf.function retracing. Tracing is expensive and the excessive number of tracings could be due to (1) creating @tf.function repeatedly in a loop, (2) passing tensors with different shapes, (3) passing Python objects instead of tensors. For (1), please define your @tf.function outside of the loop. For (2), @tf.function has reduce_retracing=True option that can avoid unnecessary retracing. For (3), please refer to https://www.tensorflow.org/guide/function#controlling_retracing and https://www.tensorflow.org/api_docs/python/tf/function for  more details.\n",
      "1/1 [==============================] - 0s 60ms/step\n",
      "WARNING:tensorflow:6 out of the last 11 calls to <function Model.make_predict_function.<locals>.predict_function at 0x7f6e6c1c4e50> triggered tf.function retracing. Tracing is expensive and the excessive number of tracings could be due to (1) creating @tf.function repeatedly in a loop, (2) passing tensors with different shapes, (3) passing Python objects instead of tensors. For (1), please define your @tf.function outside of the loop. For (2), @tf.function has reduce_retracing=True option that can avoid unnecessary retracing. For (3), please refer to https://www.tensorflow.org/guide/function#controlling_retracing and https://www.tensorflow.org/api_docs/python/tf/function for  more details.\n",
      "1/1 [==============================] - 0s 44ms/step\n"
     ]
    },
    {
     "data": {
      "image/png": "[encoded data removed]",
      "text/plain": [
       "<Figure size 640x480 with 2 Axes>"
      ]
     },
     "metadata": {},
     "output_type": "display_data"
    }
   ],
   "source": [
    "\n",
    "predict_image(ig1,reconstructed_encoder,reconstructed_decoder,img_h,img_w)"
   ]
  },
  {
   "cell_type": "code",
   "execution_count": null,
   "id": "e91b188a-9977-4cdd-b143-658f015e13b1",
   "metadata": {},
   "outputs": [],
   "source": []
  },
  {
   "cell_type": "code",
   "execution_count": null,
   "id": "945461f9-4988-4e8f-86d3-875dbf1c7945",
   "metadata": {},
   "outputs": [],
   "source": []
  }
 ],
 "metadata": {
  "kernelspec": {
   "display_name": "Python 3 (ipykernel)",
   "language": "python",
   "name": "python3"
  },
  "language_info": {
   "codemirror_mode": {
    "name": "ipython",
    "version": 3
   },
   "file_extension": ".py",
   "mimetype": "text/x-python",
   "name": "python",
   "nbconvert_exporter": "python",
   "pygments_lexer": "ipython3",
   "version": "3.10.9"
  }
 },
 "nbformat": 4,
 "nbformat_minor": 5
}
